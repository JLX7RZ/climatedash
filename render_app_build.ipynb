{
 "cells": [
  {
   "cell_type": "code",
   "execution_count": 13,
   "id": "943d0153-e764-4ee6-bda8-c38f12cbae52",
   "metadata": {},
   "outputs": [],
   "source": [
    "# Importing the libraries\n",
    "import os\n",
    "from dotenv import load_dotenv\n",
    "load_dotenv()\n",
    "import pandas as pd\n",
    "import dash\n",
    "from dash import Dash, dcc, html, callback\n",
    "from dash.dependencies import Input, Output, State\n",
    "import plotly.express as px\n",
    "from dash import dash_table\n",
    "import dash_bootstrap_components as dbc\n",
    "from sqlalchemy import create_engine\n",
    "from sqlalchemy import text"
   ]
  },
  {
   "cell_type": "code",
   "execution_count": 15,
   "id": "788ae98d-7f87-4990-a206-878f56565edc",
   "metadata": {},
   "outputs": [],
   "source": [
    "#DO NOT define the credentials in your .env file only as HOST and PORT\n",
    "#otherwise it will affect the host of the dash and give an error\n",
    "\n",
    "username = os.getenv('POSTGRES_USER')\n",
    "password = os.getenv('POSTGRES_PW')\n",
    "host = os.getenv('POSTGRES_HOST')\n",
    "port = os.getenv('POSTGRES_PORT')"
   ]
  },
  {
   "cell_type": "code",
   "execution_count": 17,
   "id": "d197f9af-58cd-44f9-bb7e-7076c4ae5d9b",
   "metadata": {},
   "outputs": [
    {
     "data": {
      "text/plain": [
       "'postgres'"
      ]
     },
     "execution_count": 17,
     "metadata": {},
     "output_type": "execute_result"
    }
   ],
   "source": [
    "username"
   ]
  },
  {
   "cell_type": "code",
   "execution_count": 18,
   "id": "d510358c-eb78-4972-b199-ad878f7495a6",
   "metadata": {},
   "outputs": [],
   "source": [
    "#create engine\n",
    "\n",
    "url = f'postgresql://{username}:{password}@{host}:{port}/gapminder'\n",
    "engine = create_engine(url, echo=False)"
   ]
  },
  {
   "cell_type": "code",
   "execution_count": 4,
   "id": "bb107c5d-cd75-480b-9ccc-64101c37f5de",
   "metadata": {},
   "outputs": [],
   "source": [
    "#get the df_germany data from the server\n",
    "with engine.begin() as conn: # Done with echo=False\n",
    "    result = conn.execute(text(\"SELECT * FROM df_germany;\"))\n",
    "    data = result.all()\n",
    "\n",
    "df_germany = pd.DataFrame(data)\n",
    "df_germany=df_germany.set_index('index')\n",
    "\n",
    "#data"
   ]
  },
  {
   "cell_type": "code",
   "execution_count": 5,
   "id": "ac0dcb7d-18b4-4cc7-a339-710ca9421254",
   "metadata": {},
   "outputs": [],
   "source": [
    "# get the df_countries data from the server\n",
    "\n",
    "with engine.begin() as conn: # Done with echo=False\n",
    "    result = conn.execute(text(\"SELECT * FROM df_countries;\"))\n",
    "    data2 = result.all()\n",
    "\n",
    "\n",
    "df_countries =pd.DataFrame(data2 )\n",
    "df_countries=df_countries.set_index('index')"
   ]
  },
  {
   "cell_type": "code",
   "execution_count": 19,
   "id": "617c2655-f664-4846-b92c-5e66fd8335c7",
   "metadata": {},
   "outputs": [
    {
     "ename": "NameError",
     "evalue": "name 'df_countries' is not defined",
     "output_type": "error",
     "traceback": [
      "\u001b[1;31m---------------------------------------------------------------------------\u001b[0m",
      "\u001b[1;31mNameError\u001b[0m                                 Traceback (most recent call last)",
      "Cell \u001b[1;32mIn[19], line 1\u001b[0m\n\u001b[1;32m----> 1\u001b[0m \u001b[43mdf_countries\u001b[49m\u001b[38;5;241m.\u001b[39minfo()\n",
      "\u001b[1;31mNameError\u001b[0m: name 'df_countries' is not defined"
     ]
    }
   ],
   "source": [
    "df_countries.info()"
   ]
  },
  {
   "cell_type": "code",
   "execution_count": 7,
   "id": "c083a257-420b-4042-934b-861de8416d82",
   "metadata": {},
   "outputs": [],
   "source": [
    "# creating the table\n",
    "table = dash_table.DataTable(df_germany.to_dict('records'),\n",
    "                                  [{\"name\": i, \"id\": i} for i in df_germany.columns],\n",
    "                               style_data={'color': 'white','backgroundColor': \"#222222\"},\n",
    "                              style_header={\n",
    "                                  'backgroundColor': 'rgb(210, 210, 210)',\n",
    "                                  'color': 'black','fontWeight': 'bold'}, \n",
    "                                     style_table={ \n",
    "                                         'minHeight': '400px', 'height': '400px', 'maxHeight': '400px',\n",
    "                                         'minWidth': '900px', 'width': '900px', 'maxWidth': '900px',\n",
    "                                         'marginLeft': 'auto', 'marginRight': 'auto',\n",
    "                                         'marginTop': 0, 'marginBottom': \"30\"}\n",
    "                                     )\n"
   ]
  },
  {
   "cell_type": "code",
   "execution_count": 8,
   "id": "edc33699-ff86-4bae-807d-0aff4e851e5b",
   "metadata": {},
   "outputs": [],
   "source": [
    "#creating the bar graph\n",
    "fig = px.bar(df_countries, \n",
    "             x='year', \n",
    "             y='lifeExp',  \n",
    "             color='country',\n",
    "             barmode='group',\n",
    "             height=300, title = \"Germany vs Denmark & Belgium\",)\n",
    "\n",
    "fig = fig.update_layout(\n",
    "        plot_bgcolor=\"#222222\", paper_bgcolor=\"#222222\", font_color=\"white\", \n",
    "    #margin=dict(l=20, r=20, t=0, b=20)\n",
    ")\n",
    "    \n",
    "\n",
    "graph = dcc.Graph(figure=fig)"
   ]
  },
  {
   "cell_type": "code",
   "execution_count": 9,
   "id": "bae90538-980e-46a8-ac3f-b478cf6323f7",
   "metadata": {},
   "outputs": [],
   "source": [
    "#creating the line graph\n",
    "fig2 = px.line(df_germany, x='year', y='lifeExp', height=300, title=\"Life Expectancy in Germany\", markers=True)\n",
    "fig2 = fig2.update_layout(\n",
    "        plot_bgcolor=\"#222222\", paper_bgcolor=\"#222222\", font_color=\"white\"\n",
    "    )\n",
    "graph2 = dcc.Graph(figure=fig2)"
   ]
  },
  {
   "cell_type": "code",
   "execution_count": 10,
   "id": "9e69ac7c-aa6e-41a9-a937-3359fdcc2b20",
   "metadata": {},
   "outputs": [],
   "source": [
    "#creating the map\n",
    "fig3 = px.choropleth(df_countries, locations='iso_alpha', \n",
    "                    projection='natural earth', animation_frame=\"year\",\n",
    "                    scope='europe',  \n",
    "                    color='lifeExp', locationmode='ISO-3', \n",
    "                    color_continuous_scale=px.colors.sequential.ice)\n",
    "\n",
    "fig3 = fig3.update_layout(\n",
    "        plot_bgcolor=\"#222222\", paper_bgcolor=\"#222222\", font_color=\"white\", geo_bgcolor=\"#222222\"\n",
    "    )\n",
    "graph3 = dcc.Graph(figure=fig3)\n"
   ]
  },
  {
   "cell_type": "code",
   "execution_count": 11,
   "id": "c947e15c-6dc8-4caa-87c5-d8832254b203",
   "metadata": {},
   "outputs": [],
   "source": [
    "\n",
    "# using the app with radio item\n",
    "app =dash.Dash(external_stylesheets=[dbc.themes.DARKLY])\n",
    "server = app.server\n",
    "\n",
    "radio= dcc.RadioItems(id=\"countries\",options=['Germany', 'Belgium', 'Denmark'], value=\"Germany\", \n",
    "                      inline=True, style ={'paddingLeft': '30px'})\n",
    "\n",
    "\n",
    "app.layout = html.Div([html.H1('Gap Minder Analysis of Germany', style={'textAlign': 'center', 'color': '#636EFA'}), \n",
    "                       html.Div(html.P(\"Using the gapminder data we take a look at Germany's profile\"), \n",
    "                                style={'marginLeft': 50, 'marginRight': 25}),\n",
    "                       html.Div([html.Div('Germany', \n",
    "                                          style={'backgroundColor': '#636EFA', 'color': 'white', \n",
    "                                                 'width': '900px', 'marginLeft': 'auto', 'marginRight': 'auto'}),\n",
    "                                 table, radio, graph,  graph2, graph3])\n",
    "                      ])"
   ]
  },
  {
   "cell_type": "code",
   "execution_count": 12,
   "id": "e7ff9604-b4ec-4584-92a1-7bb40b1ada0a",
   "metadata": {},
   "outputs": [],
   "source": [
    "@callback(\n",
    "    Output(graph, \"figure\"), \n",
    "    Input(\"countries\", \"value\"))\n",
    "\n",
    "#let's also define discrete colors for each bar, so we can distinguish them easily, everytime we change our selection\n",
    "\n",
    "def update_bar_chart(country): \n",
    "    mask = df_countries[\"country\"]==(country)\n",
    "    fig =px.bar(df_countries[mask], \n",
    "             x='year', \n",
    "             y='lifeExp',  \n",
    "             color='country',\n",
    "             color_discrete_map = {'Germany': '#7FD4C1', 'Denmark': '#8690FF', 'Belgium': '#F7C0BB'},\n",
    "             barmode='group',\n",
    "             height=300, title = \"Germany vs Denmark & Belgium\",)\n",
    "    fig = fig.update_layout(\n",
    "        plot_bgcolor=\"#222222\", paper_bgcolor=\"#222222\", font_color=\"white\"\n",
    "    )\n",
    "\n",
    "    return fig"
   ]
  },
  {
   "cell_type": "code",
   "execution_count": 13,
   "id": "2e140c2b-0e51-42ab-ac16-baf84cef5aba",
   "metadata": {},
   "outputs": [
    {
     "data": {
      "text/html": [
       "\n",
       "        <iframe\n",
       "            width=\"100%\"\n",
       "            height=\"650\"\n",
       "            src=\"http://localhost:8050/\"\n",
       "            frameborder=\"0\"\n",
       "            allowfullscreen\n",
       "            \n",
       "        ></iframe>\n",
       "        "
      ],
      "text/plain": [
       "<IPython.lib.display.IFrame at 0x157607b10>"
      ]
     },
     "metadata": {},
     "output_type": "display_data"
    }
   ],
   "source": [
    "if __name__ == \"__main__\":\n",
    "    app.run_server(mode=\"inline\", host=\"localhost\")\n",
    "#mode=\"inline\", host=\"localhost\""
   ]
  },
  {
   "cell_type": "code",
   "execution_count": null,
   "id": "e6e6ce0f-822d-4068-82ed-20ba842e3e7a",
   "metadata": {},
   "outputs": [],
   "source": []
  },
  {
   "cell_type": "code",
   "execution_count": null,
   "id": "8cacd07b-8785-456f-b0ed-0a929e627b11",
   "metadata": {},
   "outputs": [],
   "source": []
  }
 ],
 "metadata": {
  "kernelspec": {
   "display_name": "Python 3 (ipykernel)",
   "language": "python",
   "name": "python3"
  },
  "language_info": {
   "codemirror_mode": {
    "name": "ipython",
    "version": 3
   },
   "file_extension": ".py",
   "mimetype": "text/x-python",
   "name": "python",
   "nbconvert_exporter": "python",
   "pygments_lexer": "ipython3",
   "version": "3.11.5"
  }
 },
 "nbformat": 4,
 "nbformat_minor": 5
}
